This notebook will be used for Capstone project

import pandas as pd
import numpy as np

print("Hello Capstone Project Course!")
